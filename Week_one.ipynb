{
 "cells": [
  {
   "cell_type": "markdown",
   "id": "776f557f",
   "metadata": {},
   "source": [
    "## Guess Game\n"
   ]
  },
  {
   "cell_type": "code",
   "execution_count": 1,
   "id": "79b1cee3",
   "metadata": {},
   "outputs": [],
   "source": [
    "from random import randint\n",
    "from IPython.display import clear_output"
   ]
  },
  {
   "cell_type": "code",
   "execution_count": 13,
   "id": "027270b0",
   "metadata": {},
   "outputs": [
    {
     "name": "stdout",
     "output_type": "stream",
     "text": [
      "Yay!, Your guess is right.\n",
      "It took you 2 guesses to get my guess right!\n"
     ]
    }
   ],
   "source": [
    "guessed_number = randint(0,100)\n",
    "guesses = 0\n",
    "while not False:\n",
    "    ans = input(\"Guess a number between 0 and 100!\")\n",
    "    guesses += 1\n",
    "    clear_output()\n",
    "    if int(ans)== guessed_number:\n",
    "        print(\"Yay!, Your guess is right.\")\n",
    "        print(\"It took you {} guesses to get my guess right!\".format(guesses))\n",
    "        break\n",
    "    elif int(ans) > guessed_number:\n",
    "        print(\"The number you guessed is {} more than my guessed number!\".format(int(ans) - guessed_number))\n",
    "    elif int(ans) < guessed_number:\n",
    "        print(\"The number you guessed is {} less than my guessed number!\".format(guessed_number - int(ans)))"
   ]
  },
  {
   "cell_type": "code",
   "execution_count": 15,
   "id": "93d954e1",
   "metadata": {},
   "outputs": [
    {
     "name": "stdout",
     "output_type": "stream",
     "text": [
      "False\n"
     ]
    }
   ],
   "source": [
    "print(False)"
   ]
  },
  {
   "cell_type": "code",
   "execution_count": 27,
   "id": "457d6561",
   "metadata": {},
   "outputs": [
    {
     "name": "stdout",
     "output_type": "stream",
     "text": [
      "Emmanuel Mensah\n"
     ]
    }
   ],
   "source": [
    "name = \"emmAnuel mEnsah\"\n",
    "print(name.title())"
   ]
  },
  {
   "cell_type": "code",
   "execution_count": 2,
   "id": "82c393a0",
   "metadata": {},
   "outputs": [],
   "source": [
    "query_strings = \"https://finance.yahoo.com/quote/%5EDJI/history?period1=946684800&period2=1647129600&interval=1d&filter=history&frequency=1d&includeAdjustedClose=true\""
   ]
  },
  {
   "cell_type": "code",
   "execution_count": 3,
   "id": "aba02df8",
   "metadata": {},
   "outputs": [],
   "source": [
    "import pandas as pd"
   ]
  },
  {
   "cell_type": "code",
   "execution_count": 6,
   "id": "0ba8b6e1",
   "metadata": {},
   "outputs": [],
   "source": [
    "import yfinance as yf"
   ]
  },
  {
   "cell_type": "code",
   "execution_count": 8,
   "id": "9b4cf283",
   "metadata": {},
   "outputs": [
    {
     "name": "stdout",
     "output_type": "stream",
     "text": [
      "[*********************100%***********************]  1 of 1 completed\n"
     ]
    }
   ],
   "source": [
    "df = yf.download(\"DJI\")"
   ]
  },
  {
   "cell_type": "code",
   "execution_count": 11,
   "id": "5832bd82",
   "metadata": {},
   "outputs": [
    {
     "data": {
      "text/html": [
       "<div>\n",
       "<style scoped>\n",
       "    .dataframe tbody tr th:only-of-type {\n",
       "        vertical-align: middle;\n",
       "    }\n",
       "\n",
       "    .dataframe tbody tr th {\n",
       "        vertical-align: top;\n",
       "    }\n",
       "\n",
       "    .dataframe thead th {\n",
       "        text-align: right;\n",
       "    }\n",
       "</style>\n",
       "<table border=\"1\" class=\"dataframe\">\n",
       "  <thead>\n",
       "    <tr style=\"text-align: right;\">\n",
       "      <th></th>\n",
       "      <th>Open</th>\n",
       "      <th>High</th>\n",
       "      <th>Low</th>\n",
       "      <th>Close</th>\n",
       "      <th>Adj Close</th>\n",
       "      <th>Volume</th>\n",
       "    </tr>\n",
       "    <tr>\n",
       "      <th>Date</th>\n",
       "      <th></th>\n",
       "      <th></th>\n",
       "      <th></th>\n",
       "      <th></th>\n",
       "      <th></th>\n",
       "      <th></th>\n",
       "    </tr>\n",
       "  </thead>\n",
       "  <tbody>\n",
       "    <tr>\n",
       "      <th>2022-02-24</th>\n",
       "      <td>33223.800781</td>\n",
       "      <td>33223.800781</td>\n",
       "      <td>33223.800781</td>\n",
       "      <td>33223.800781</td>\n",
       "      <td>33223.800781</td>\n",
       "      <td>0</td>\n",
       "    </tr>\n",
       "    <tr>\n",
       "      <th>2022-02-25</th>\n",
       "      <td>34058.800781</td>\n",
       "      <td>34058.800781</td>\n",
       "      <td>34058.800781</td>\n",
       "      <td>34058.800781</td>\n",
       "      <td>34058.800781</td>\n",
       "      <td>0</td>\n",
       "    </tr>\n",
       "    <tr>\n",
       "      <th>2022-02-28</th>\n",
       "      <td>33892.601562</td>\n",
       "      <td>33892.601562</td>\n",
       "      <td>33892.601562</td>\n",
       "      <td>33892.601562</td>\n",
       "      <td>33892.601562</td>\n",
       "      <td>0</td>\n",
       "    </tr>\n",
       "    <tr>\n",
       "      <th>2022-03-01</th>\n",
       "      <td>33294.898438</td>\n",
       "      <td>33294.898438</td>\n",
       "      <td>33294.898438</td>\n",
       "      <td>33294.898438</td>\n",
       "      <td>33294.898438</td>\n",
       "      <td>0</td>\n",
       "    </tr>\n",
       "    <tr>\n",
       "      <th>2022-03-02</th>\n",
       "      <td>33891.300781</td>\n",
       "      <td>33891.300781</td>\n",
       "      <td>33891.300781</td>\n",
       "      <td>33891.300781</td>\n",
       "      <td>33891.300781</td>\n",
       "      <td>0</td>\n",
       "    </tr>\n",
       "  </tbody>\n",
       "</table>\n",
       "</div>"
      ],
      "text/plain": [
       "                    Open          High           Low         Close  \\\n",
       "Date                                                                 \n",
       "2022-02-24  33223.800781  33223.800781  33223.800781  33223.800781   \n",
       "2022-02-25  34058.800781  34058.800781  34058.800781  34058.800781   \n",
       "2022-02-28  33892.601562  33892.601562  33892.601562  33892.601562   \n",
       "2022-03-01  33294.898438  33294.898438  33294.898438  33294.898438   \n",
       "2022-03-02  33891.300781  33891.300781  33891.300781  33891.300781   \n",
       "\n",
       "               Adj Close  Volume  \n",
       "Date                              \n",
       "2022-02-24  33223.800781       0  \n",
       "2022-02-25  34058.800781       0  \n",
       "2022-02-28  33892.601562       0  \n",
       "2022-03-01  33294.898438       0  \n",
       "2022-03-02  33891.300781       0  "
      ]
     },
     "execution_count": 11,
     "metadata": {},
     "output_type": "execute_result"
    }
   ],
   "source": [
    "df.tail()"
   ]
  },
  {
   "cell_type": "code",
   "execution_count": null,
   "id": "356adc0b",
   "metadata": {},
   "outputs": [],
   "source": []
  }
 ],
 "metadata": {
  "kernelspec": {
   "display_name": "Python 3 (ipykernel)",
   "language": "python",
   "name": "python3"
  },
  "language_info": {
   "codemirror_mode": {
    "name": "ipython",
    "version": 3
   },
   "file_extension": ".py",
   "mimetype": "text/x-python",
   "name": "python",
   "nbconvert_exporter": "python",
   "pygments_lexer": "ipython3",
   "version": "3.9.7"
  }
 },
 "nbformat": 4,
 "nbformat_minor": 5
}
