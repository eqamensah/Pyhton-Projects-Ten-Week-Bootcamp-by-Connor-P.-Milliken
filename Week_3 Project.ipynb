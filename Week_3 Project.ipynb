{
 "cells": [
  {
   "cell_type": "markdown",
   "id": "583f7f5c",
   "metadata": {},
   "source": [
    "## Creating a Calculator: Given two numbers"
   ]
  },
  {
   "cell_type": "code",
   "execution_count": 3,
   "id": "f10d8fd3",
   "metadata": {},
   "outputs": [],
   "source": [
    "from IPython.display import clear_output"
   ]
  },
  {
   "cell_type": "code",
   "execution_count": 5,
   "id": "206fe5e9",
   "metadata": {},
   "outputs": [
    {
     "name": "stdout",
     "output_type": "stream",
     "text": [
      "20.0 - 10.0 = 10.0\n"
     ]
    }
   ],
   "source": [
    "operation = input(\"Which calculation would you like to perform? \").lower()\n",
    "clear_output()\n",
    "\n",
    "if operation == \"substract\" or operation == \"divide\":\n",
    "    print(\"Please, keep in mind that the order of the numbers matters\")\n",
    "num1, num2 = float(input(\"What is the first number? \")), float(input(\"What is the second number? \"))\n",
    "clear_output()\n",
    "\n",
    "try:\n",
    "    if operation == \"addition\":\n",
    "        result = num1 + num2\n",
    "        print(\"{} + {} = {}\".format(num1, num2, result))\n",
    "    elif operation == \"substract\":\n",
    "        result = num1 - num2\n",
    "        print(\"{} - {} = {}\".format(num1, num2, result))\n",
    "    elif operation == \"division\":\n",
    "        result = num1/num2\n",
    "        print(\"{} / {} = {}\".format(num1, num2, result))\n",
    "    else:\n",
    "        result = num1 * num2\n",
    "        print(\"{} * {} = {}\".format(num1, num2, result))\n",
    "except:\n",
    "    print(\"Error: check your entries again!\")\n",
    "\n",
    "\n"
   ]
  },
  {
   "cell_type": "markdown",
   "id": "2c9bdc17",
   "metadata": {},
   "source": [
    "### Reversing Numbers"
   ]
  },
  {
   "cell_type": "code",
   "execution_count": 9,
   "id": "6602df53",
   "metadata": {},
   "outputs": [
    {
     "name": "stdout",
     "output_type": "stream",
     "text": [
      "30.0 / 20.0 = 1.5\n"
     ]
    }
   ],
   "source": [
    "'''\n",
    "Alter the calculator project so that the order of the numbers \n",
    "doesn’t matter. There are a few ways to get the same result; \n",
    "one way is to ask the user if they’d like to reverse the placement \n",
    "of the numbers.\n",
    "'''\n",
    "\n",
    "operation = input(\"Which calculation would you like to perform? \").lower()\n",
    "\n",
    "if operation == \"substract\" or operation == \"divide\":\n",
    "    print(\"Please, keep in mind that the order of the numbers matters\")\n",
    "num1, num2 = float(input(\"What is the first number? \")), float(input(\"What is the second number? \"))\n",
    "\n",
    "rev_num = input(\"Do you want to reverse the placement of the numbers? Yes/No\").lower()\n",
    "if rev_num == \"yes\":\n",
    "    num1, num2 = num2, num1\n",
    "clear_output()\n",
    "\n",
    "try:\n",
    "    if operation == \"addition\":\n",
    "        result = num1 + num2\n",
    "        print(\"{} + {} = {}\".format(num1, num2, result))\n",
    "    elif operation == \"substract\":\n",
    "        result = num1 - num2\n",
    "        \n",
    "        print(\"{} - {} = {}\".format(num1, num2, result))\n",
    "    elif operation == \"division\":\n",
    "        result = num1/num2\n",
    "        print(\"{} / {} = {}\".format(num1, num2, result))\n",
    "    else:\n",
    "        result = num1 * num2\n",
    "        print(\"{} * {} = {}\".format(num1, num2, result))\n",
    "except:\n",
    "    print(\"Error: check your entries again!\")\n",
    "\n",
    "\n"
   ]
  },
  {
   "cell_type": "markdown",
   "id": "1e716166",
   "metadata": {},
   "source": [
    "## Age Group"
   ]
  },
  {
   "cell_type": "code",
   "execution_count": 14,
   "id": "2a077f38",
   "metadata": {},
   "outputs": [
    {
     "name": "stdout",
     "output_type": "stream",
     "text": [
      "Young Adult\n"
     ]
    }
   ],
   "source": [
    "age = int(input(\"What is your age? \"))\n",
    "clear_output()\n",
    "if 0 <= age <= 12:\n",
    "    print(\"Kid\")\n",
    "elif 13 <= age <= 19:\n",
    "    print(\"Teenager\")\n",
    "elif 20 <= age <= 30:\n",
    "    print(\"Young Adult\")\n",
    "elif 31 <= age <= 64:\n",
    "    print(\"Adult\")\n",
    "elif age >= 65:\n",
    "    print(Adult)\n",
    "else:\n",
    "    print(\"Error! Kindly key in a correct value.\")"
   ]
  },
  {
   "cell_type": "code",
   "execution_count": null,
   "id": "f44e3222",
   "metadata": {},
   "outputs": [],
   "source": []
  }
 ],
 "metadata": {
  "kernelspec": {
   "display_name": "Python 3 (ipykernel)",
   "language": "python",
   "name": "python3"
  },
  "language_info": {
   "codemirror_mode": {
    "name": "ipython",
    "version": 3
   },
   "file_extension": ".py",
   "mimetype": "text/x-python",
   "name": "python",
   "nbconvert_exporter": "python",
   "pygments_lexer": "ipython3",
   "version": "3.9.7"
  }
 },
 "nbformat": 4,
 "nbformat_minor": 5
}
