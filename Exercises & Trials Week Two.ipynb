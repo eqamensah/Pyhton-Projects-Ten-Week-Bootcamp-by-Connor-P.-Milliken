{
 "cells": [
  {
   "cell_type": "markdown",
   "id": "9de2e890",
   "metadata": {},
   "source": [
    "# Guess Game"
   ]
  },
  {
   "cell_type": "code",
   "execution_count": 6,
   "id": "a3d3cc01",
   "metadata": {},
   "outputs": [],
   "source": [
    "from random import randint \n",
    "from IPython.display import clear_output"
   ]
  },
  {
   "cell_type": "code",
   "execution_count": 7,
   "id": "8e685c99",
   "metadata": {},
   "outputs": [
    {
     "ename": "ValueError",
     "evalue": "invalid literal for int() with base 10: ''",
     "output_type": "error",
     "traceback": [
      "\u001b[0;31m---------------------------------------------------------------------------\u001b[0m",
      "\u001b[0;31mValueError\u001b[0m                                Traceback (most recent call last)",
      "\u001b[0;32m/var/folders/b_/_fzn5d2x4pv4hkdnpjnlmc2h0000gn/T/ipykernel_60830/2338135574.py\u001b[0m in \u001b[0;36m<module>\u001b[0;34m\u001b[0m\n\u001b[1;32m      6\u001b[0m     \u001b[0mguessed_times\u001b[0m \u001b[0;34m+=\u001b[0m \u001b[0;36m1\u001b[0m\u001b[0;34m\u001b[0m\u001b[0;34m\u001b[0m\u001b[0m\n\u001b[1;32m      7\u001b[0m     \u001b[0mclear_output\u001b[0m\u001b[0;34m(\u001b[0m\u001b[0;34m)\u001b[0m\u001b[0;34m\u001b[0m\u001b[0;34m\u001b[0m\u001b[0m\n\u001b[0;32m----> 8\u001b[0;31m     \u001b[0;32mif\u001b[0m \u001b[0mint\u001b[0m\u001b[0;34m(\u001b[0m\u001b[0manswer\u001b[0m\u001b[0;34m)\u001b[0m \u001b[0;34m==\u001b[0m \u001b[0mguessed_number\u001b[0m\u001b[0;34m:\u001b[0m\u001b[0;34m\u001b[0m\u001b[0;34m\u001b[0m\u001b[0m\n\u001b[0m\u001b[1;32m      9\u001b[0m         \u001b[0mprint\u001b[0m\u001b[0;34m(\u001b[0m\u001b[0;34m\"Yay! You got it, {}.\"\u001b[0m\u001b[0;34m.\u001b[0m\u001b[0mformat\u001b[0m\u001b[0;34m(\u001b[0m\u001b[0mname\u001b[0m\u001b[0;34m.\u001b[0m\u001b[0mtitle\u001b[0m\u001b[0;34m(\u001b[0m\u001b[0;34m)\u001b[0m\u001b[0;34m)\u001b[0m\u001b[0;34m)\u001b[0m\u001b[0;34m\u001b[0m\u001b[0;34m\u001b[0m\u001b[0m\n\u001b[1;32m     10\u001b[0m         \u001b[0mprint\u001b[0m\u001b[0;34m(\u001b[0m\u001b[0;34m\"It took you {} guesses\"\u001b[0m\u001b[0;34m.\u001b[0m\u001b[0mformat\u001b[0m\u001b[0;34m(\u001b[0m\u001b[0mguessed_times\u001b[0m\u001b[0;34m)\u001b[0m\u001b[0;34m)\u001b[0m\u001b[0;34m\u001b[0m\u001b[0;34m\u001b[0m\u001b[0m\n",
      "\u001b[0;31mValueError\u001b[0m: invalid literal for int() with base 10: ''"
     ]
    }
   ],
   "source": [
    "guessed_number = randint(0, 100)\n",
    "guessed_times = 0\n",
    "name = input(\"What is your name?\")\n",
    "while True:\n",
    "    answer = input(\"What number do you think I just guessed?\")\n",
    "    guessed_times += 1\n",
    "    clear_output()\n",
    "    if int(answer) == guessed_number:\n",
    "        print(\"Yay! You got it, {}.\".format(name.title()))\n",
    "        print(\"It took you {} guesses\".format(guessed_times))\n",
    "        break\n",
    "    elif int(answer) < guessed_number:\n",
    "        print(\"Oops! You missed my guess. My guess is {} more.\".format(guessed_number-int(answer)))\n",
    "    else:\n",
    "        print(\"Oops! You missed my guess. Your guess is {} more.\".format(int(answer) - guessed_number))"
   ]
  },
  {
   "cell_type": "code",
   "execution_count": 8,
   "id": "016a7a27",
   "metadata": {},
   "outputs": [
    {
     "name": "stdout",
     "output_type": "stream",
     "text": [
      "\n",
      "*\n",
      "**\n",
      "***\n",
      "****\n",
      "*****\n",
      "******\n",
      "*******\n",
      "********\n",
      "*********\n"
     ]
    }
   ],
   "source": [
    "for i in range(10):\n",
    "    result = \"*\"\n",
    "    result *= i\n",
    "    print(result)"
   ]
  },
  {
   "cell_type": "code",
   "execution_count": 9,
   "id": "36506e40",
   "metadata": {},
   "outputs": [
    {
     "name": "stdout",
     "output_type": "stream",
     "text": [
      "Basit's favorite sport is Crypto\n",
      "Emma is working on python programming\n"
     ]
    }
   ],
   "source": [
    "print(\"{}'s favorite sport is {}\".format(\"Basit\", \"Crypto\"))\n",
    "print(\"{} is working on {} programming\".format(\"Emma\", \"python\"))"
   ]
  },
  {
   "cell_type": "code",
   "execution_count": 10,
   "id": "204172fa",
   "metadata": {},
   "outputs": [
    {
     "name": "stdout",
     "output_type": "stream",
     "text": [
      "8\n"
     ]
    }
   ],
   "source": [
    "word = \"I am in the bus to campus.\"\n",
    "print(word.find(\"the\"))"
   ]
  },
  {
   "cell_type": "code",
   "execution_count": 11,
   "id": "90409193",
   "metadata": {},
   "outputs": [
    {
     "name": "stdout",
     "output_type": "stream",
     "text": [
      "Emmanuel\n",
      "Emmanuel \n",
      " Emmanuel\n"
     ]
    }
   ],
   "source": [
    "#.Strip\n",
    "name = \" Emmanuel \"\n",
    "print(name.strip()) #Both Sides\n",
    "print(name.lstrip()) #Left side stripping\n",
    "print(name.rstrip()) #Right side stripping"
   ]
  },
  {
   "cell_type": "code",
   "execution_count": 12,
   "id": "6972801e",
   "metadata": {},
   "outputs": [
    {
     "name": "stdout",
     "output_type": "stream",
     "text": [
      "John Smith\n"
     ]
    }
   ],
   "source": [
    "#Trial\n",
    "\n",
    "strip = \"$$John Smith\"\n",
    "print(strip.strip(\"$\"))"
   ]
  },
  {
   "cell_type": "code",
   "execution_count": 13,
   "id": "4993ec10",
   "metadata": {},
   "outputs": [
    {
     "name": "stdout",
     "output_type": "stream",
     "text": [
      "**************************************************\n",
      "\t\tEmmanuel & Sons\n",
      "\t\t366 Richland Avenue\n",
      "\t\tAthens, Ohio\n",
      "==================================================\n",
      "\t\tSales Details\n",
      "\tProduct Name\t\tPrice\n",
      "\tBooks\t\t\t$34.83\n",
      "\tLasers\t\t\t$23.99\n",
      "==================================================\n",
      "\u001b[1m\tTotal\t\t\t$58.82\u001b[0m\n",
      "==================================================\n",
      "\tThank you for patronizing us, !\n",
      "**************************************************\n"
     ]
    }
   ],
   "source": [
    "#Receipts Trial\n",
    "\n",
    "customer_name = input(\"Name of Customer:\")\n",
    "clear_output()\n",
    "\"\"\"\n",
    "Header: Company name, Street, City and State\n",
    "\"\"\"\n",
    "com_name = \"Emmanuel & Sons\"\n",
    "str_name = \"366 Richland Avenue\"\n",
    "address = \"Athens, Ohio\"\n",
    "print(\"*\"*50)\n",
    "print(\"\\t\\t{}\".format(com_name))\n",
    "print(\"\\t\\t{}\".format(str_name))\n",
    "print(\"\\t\\t{}\".format(address))\n",
    "\n",
    "\"\"\"\n",
    "Sales: Product name and prices\n",
    "\"\"\"\n",
    "prod1, prod1_price = \"Books\", 34.83\n",
    "prod2, prod2_price = \"Lasers\", 23.99\n",
    "\n",
    "print(\"=\"*50)\n",
    "print(\"\\t\\tSales Details\")\n",
    "print(\"\\tProduct Name\\t\\tPrice\")\n",
    "print(\"\\t{}\\t\\t\\t${}\".format(prod1, prod1_price))\n",
    "print(\"\\t{}\\t\\t\\t${}\".format(prod2, prod2_price))\n",
    "\n",
    "\"\"\"\n",
    "Total Sales\n",
    "\"\"\"\n",
    "print(\"=\"*50)\n",
    "print(\"\\033[1m\\tTotal\\t\\t\\t${}\\033[0m\".format(round(prod1_price+prod2_price, 2)))\n",
    "print(\"=\"*50)\n",
    "\n",
    "\"\"\"\n",
    "Appreciation Message\n",
    "\"\"\"\n",
    "print(\"\\tThank you for patronizing us, {}!\".format(customer_name.title()))\n",
    "print(\"*\"*50)"
   ]
  },
  {
   "cell_type": "code",
   "execution_count": 14,
   "id": "25524a88",
   "metadata": {},
   "outputs": [
    {
     "name": "stdout",
     "output_type": "stream",
     "text": [
      "Type a number to add: \n",
      "You did not put in a valid number!\n",
      "The program did not break!\n"
     ]
    }
   ],
   "source": [
    "try:\n",
    "      ans = float( input(\"Type a number to add: \") )\n",
    "      print( \"100 + { } = { }\".format(ans, 100 + ans) )\n",
    "except:\n",
    "      print(\"You did not put in a valid number!\")\n",
    "# without try/except print statement would not get hit if error occurs\n",
    "print(\"The program did not break!\")"
   ]
  },
  {
   "cell_type": "code",
   "execution_count": 15,
   "id": "27b23343",
   "metadata": {
    "scrolled": true
   },
   "outputs": [
    {
     "name": "stdout",
     "output_type": "stream",
     "text": [
      "False\n"
     ]
    }
   ],
   "source": [
    "print(not True)"
   ]
  },
  {
   "cell_type": "markdown",
   "id": "341e625f",
   "metadata": {},
   "source": [
    "## Week One"
   ]
  },
  {
   "cell_type": "code",
   "execution_count": 16,
   "id": "2b39436a",
   "metadata": {},
   "outputs": [],
   "source": [
    "#Tuesday Exercises"
   ]
  },
  {
   "cell_type": "code",
   "execution_count": 17,
   "id": "a7e5e27f",
   "metadata": {},
   "outputs": [
    {
     "name": "stdout",
     "output_type": "stream",
     "text": [
      "Oops, Your favourite word does not.\n"
     ]
    }
   ],
   "source": [
    "#1\n",
    "'''\n",
    "Ask the user for input, and check to see if what\n",
    "they wrote includes an “es”.\n",
    "'''\n",
    "user_input = input(\"What's your faourite word? \")\n",
    "clear_output()\n",
    "if \"es\" in user_input:\n",
    "    print(\"Your favourite word, {}, contains 'es'.\".format(user_input))\n",
    "else:\n",
    "    print(\"Oops, Your favourite word does not.\")"
   ]
  },
  {
   "cell_type": "code",
   "execution_count": 18,
   "id": "6a9559ea",
   "metadata": {},
   "outputs": [
    {
     "name": "stdout",
     "output_type": "stream",
     "text": [
      "Oops, Your favourite word does not.\n"
     ]
    }
   ],
   "source": [
    "#2\n",
    "\n",
    "\"\"\"\n",
    "Ask the user for input, and check to see if what they wrote has an “ing” \n",
    "at the end. Hint: Use slicing.\n",
    "\"\"\"\n",
    "user_input = input(\"What's your faourite word? \")\n",
    "clear_output()\n",
    "if \"ing\" in user_input[-3:]:\n",
    "    print(\"Your favourite word, {}, ends with 'ing'.\".format(user_input))\n",
    "else:\n",
    "    print(\"Oops, Your favourite word does not.\")"
   ]
  },
  {
   "cell_type": "code",
   "execution_count": 19,
   "id": "80791aca",
   "metadata": {},
   "outputs": [
    {
     "name": "stdout",
     "output_type": "stream",
     "text": [
      "What's your 1st faourite word? \n",
      "What's your 2nd faourite word? \n",
      "Both words are the same\n"
     ]
    }
   ],
   "source": [
    "#3\n",
    "'''\n",
    "Ask the user to input two words, and write a conditional statement \n",
    "to check if both words are the same. Make it case insensitive so \n",
    "that capitals do not matter.\n",
    "'''\n",
    "user_input1 = input(\"What's your 1st faourite word? \")\n",
    "user_input2 = input(\"What's your 2nd faourite word? \")\n",
    "if user_input1.title().strip() == user_input2.title().strip():\n",
    "    print(\"Both words are the same\")\n",
    "else:\n",
    "    print(\"Both words aren't the same\")"
   ]
  },
  {
   "cell_type": "code",
   "execution_count": 20,
   "id": "8fb180a5",
   "metadata": {},
   "outputs": [
    {
     "data": {
      "text/plain": [
       "'\\nReturning Exponents: Ask for the user to input a number, and return \\nthat number squared if it is lower than 10. Hint: Investigate arithmetic\\nexpressions for exponents.\\n'"
      ]
     },
     "execution_count": 20,
     "metadata": {},
     "output_type": "execute_result"
    }
   ],
   "source": [
    "#4\n",
    "\n",
    "'''\n",
    "Returning Exponents: Ask for the user to input a number, and return \n",
    "that number squared if it is lower than 10. Hint: Investigate arithmetic\n",
    "expressions for exponents.\n",
    "'''\n",
    "\n"
   ]
  },
  {
   "cell_type": "code",
   "execution_count": 21,
   "id": "7895417d",
   "metadata": {},
   "outputs": [
    {
     "name": "stdout",
     "output_type": "stream",
     "text": [
      "Hello John\n"
     ]
    }
   ],
   "source": [
    "name = \"John\"\n",
    "if name == \"Jack\":\n",
    "    print(\"Hello Jack\")\n",
    "else:\n",
    "    print(\"Hello John\")"
   ]
  },
  {
   "cell_type": "code",
   "execution_count": 25,
   "id": "36c35b96",
   "metadata": {},
   "outputs": [
    {
     "name": "stdout",
     "output_type": "stream",
     "text": [
      "Good Afternoon, Emmanuel!\n"
     ]
    }
   ],
   "source": [
    "name = input(\"What is your name? \")\n",
    "user_input = input(\"What is the time of the day? \")\n",
    "clear_output()\n",
    "if int(user_input) < 1200:\n",
    "    print(\"Good Morning, {}!\".format(name))\n",
    "elif 1200 < int(user_input) < 1700:\n",
    "    print(\"Good Afternoon, {}!\".format(name))\n",
    "else:\n",
    "    print(\"Good Evening,{}!\".format(name))"
   ]
  },
  {
   "cell_type": "code",
   "execution_count": null,
   "id": "c24852bc",
   "metadata": {},
   "outputs": [],
   "source": []
  }
 ],
 "metadata": {
  "kernelspec": {
   "display_name": "Python 3 (ipykernel)",
   "language": "python",
   "name": "python3"
  },
  "language_info": {
   "codemirror_mode": {
    "name": "ipython",
    "version": 3
   },
   "file_extension": ".py",
   "mimetype": "text/x-python",
   "name": "python",
   "nbconvert_exporter": "python",
   "pygments_lexer": "ipython3",
   "version": "3.9.7"
  }
 },
 "nbformat": 4,
 "nbformat_minor": 5
}
