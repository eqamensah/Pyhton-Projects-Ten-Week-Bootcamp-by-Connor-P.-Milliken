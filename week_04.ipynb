{
 "cells": [
  {
   "cell_type": "markdown",
   "id": "30413515",
   "metadata": {},
   "source": [
    "## List"
   ]
  },
  {
   "cell_type": "code",
   "execution_count": 1,
   "id": "28adc30c",
   "metadata": {},
   "outputs": [
    {
     "name": "stdout",
     "output_type": "stream",
     "text": [
      "a: [5, 10]\t b: [5, 10]\n",
      "Location a[0]: 140310676171184\t Location b[0]: 140310676171184\n",
      "a: [20, 10]\t b: [20, 10]\n"
     ]
    }
   ],
   "source": [
    "a = [5, 10]\n",
    "b = a\n",
    "print(\"a: {}\\t b: {}\".format(a, b))\n",
    "print(\"Location a[0]: {}\\t Location b[0]: {}\".format(id(a[0]), id(b[0])))\n",
    "a[0] = 20 #re-declaring the value of a[0] also changes b[0] \n",
    "print(\"a: {}\\t b: {}\".format(a, b))"
   ]
  },
  {
   "cell_type": "code",
   "execution_count": 2,
   "id": "6c6da4e9",
   "metadata": {},
   "outputs": [
    {
     "data": {
      "text/plain": [
       "140310139742592"
      ]
     },
     "execution_count": 2,
     "metadata": {},
     "output_type": "execute_result"
    }
   ],
   "source": [
    "b = [2, 3, 4, 5]\n",
    "id(b)"
   ]
  },
  {
   "cell_type": "code",
   "execution_count": 3,
   "id": "8441c580",
   "metadata": {},
   "outputs": [
    {
     "name": "stdout",
     "output_type": "stream",
     "text": [
      "data: [50, 10, 15, 20]\t data_copy: [5, 10, 15, 20]\n"
     ]
    }
   ],
   "source": [
    "# using [:] to copy a list\n",
    "data = [5, 10, 15, 20]\n",
    "data_copy = data[ : ]       # a single colon copies the list\n",
    "data[0] = 50\n",
    "print( \"data: {}\\t data_copy: {}\".format(data, data_copy) )"
   ]
  },
  {
   "cell_type": "markdown",
   "id": "e9923ebc",
   "metadata": {},
   "source": [
    "### Monday Exercise"
   ]
  },
  {
   "cell_type": "code",
   "execution_count": 4,
   "id": "3df362c5",
   "metadata": {},
   "outputs": [
    {
     "name": "stdout",
     "output_type": "stream",
     "text": [
      "I like to play football.\n",
      "I like to play soccer.\n",
      "I like to play volleyball.\n",
      "I like to play basketball.\n",
      "I like to play handball.\n"
     ]
    }
   ],
   "source": [
    "#Sport\n",
    "\n",
    "sport = [\"football\", \"soccer\", \"volleyball\", \"basketball\", \"handball\"]\n",
    "for i in sport:\n",
    "    print(\"I like to play {}.\".format(i))"
   ]
  },
  {
   "cell_type": "code",
   "execution_count": 5,
   "id": "b8d1faee",
   "metadata": {},
   "outputs": [
    {
     "name": "stdout",
     "output_type": "stream",
     "text": [
      "J\n",
      "A\n",
      "S\n",
      "K\n"
     ]
    }
   ],
   "source": [
    "#First Character\n",
    "\n",
    "names = [\"John\", \"Abraham\", \"Sam\", \"Kelly\"]\n",
    "\n",
    "for i in names:\n",
    "    print(i[0])"
   ]
  },
  {
   "cell_type": "markdown",
   "id": "553164d0",
   "metadata": {},
   "source": [
    "# For Loop"
   ]
  },
  {
   "cell_type": "code",
   "execution_count": 6,
   "id": "569c6b75",
   "metadata": {},
   "outputs": [
    {
     "name": "stdout",
     "output_type": "stream",
     "text": [
      "Value: 0\n",
      "Value: 1\n",
      "Value: 2\n",
      "Value: 3\n",
      "Value: 4\n"
     ]
    }
   ],
   "source": [
    "# writing your first for loop using range\n",
    "for num in range(5):\n",
    "      print( \"Value: {}\".format(num) )"
   ]
  },
  {
   "cell_type": "code",
   "execution_count": 7,
   "id": "24833e3f",
   "metadata": {},
   "outputs": [
    {
     "name": "stdout",
     "output_type": "stream",
     "text": [
      "Value: J\n",
      "Value: o\n",
      "Value: h\n",
      "Value: n\n",
      "Value:  \n",
      "Value: S\n",
      "Value: m\n",
      "Value: i\n",
      "Value: t\n",
      "Value: h\n"
     ]
    }
   ],
   "source": [
    "name = \"John Smith\"\n",
    "for letter in name:\n",
    "    print( \"Value: {}\".format(letter) )"
   ]
  },
  {
   "cell_type": "code",
   "execution_count": 8,
   "id": "906acaae",
   "metadata": {},
   "outputs": [
    {
     "name": "stdout",
     "output_type": "stream",
     "text": [
      "Value: J\n",
      "Value: o\n",
      "Value: h\n",
      "Value: n\n",
      "Value: S\n",
      "Value: m\n",
      "Value: i\n",
      "Value: t\n",
      "Value: h\n"
     ]
    }
   ],
   "source": [
    "name = \"John Smith\"\n",
    "for letter in name:\n",
    "    if letter != \" \": \n",
    "      print( \"Value: {}\".format(letter) )\n",
    "       "
   ]
  },
  {
   "cell_type": "code",
   "execution_count": 9,
   "id": "ca5c4e6f",
   "metadata": {},
   "outputs": [
    {
     "name": "stdout",
     "output_type": "stream",
     "text": [
      "0\n",
      "1\n",
      "2\n",
      "3\n",
      "4\n"
     ]
    }
   ],
   "source": [
    "for num in range(5):\n",
    "    if num == 3:\n",
    "        pass\n",
    "    print(num)"
   ]
  },
  {
   "cell_type": "code",
   "execution_count": 10,
   "id": "0f1308ef",
   "metadata": {},
   "outputs": [
    {
     "name": "stdout",
     "output_type": "stream",
     "text": [
      "0\n",
      "1\n",
      "2\n",
      "4\n"
     ]
    }
   ],
   "source": [
    "for num in range(5):\n",
    "    if num == 3:\n",
    "        continue\n",
    "    print(num)"
   ]
  },
  {
   "cell_type": "code",
   "execution_count": 11,
   "id": "f5fd8120",
   "metadata": {},
   "outputs": [
    {
     "name": "stdout",
     "output_type": "stream",
     "text": [
      "0\n",
      "1\n",
      "2\n"
     ]
    }
   ],
   "source": [
    "for num in range(5):\n",
    "    if num == 3:\n",
    "        break\n",
    "    print(num)"
   ]
  },
  {
   "cell_type": "markdown",
   "id": "3f29667d",
   "metadata": {},
   "source": [
    "#### Tuesday Exercise"
   ]
  },
  {
   "cell_type": "markdown",
   "id": "df8d6c7f",
   "metadata": {},
   "source": [
    "##### # Divisible by Three: Write a for loop that prints out all numbers from 1 to 100 that are divisible by three."
   ]
  },
  {
   "cell_type": "code",
   "execution_count": 12,
   "id": "365c58ad",
   "metadata": {},
   "outputs": [
    {
     "name": "stdout",
     "output_type": "stream",
     "text": [
      "3\n",
      "6\n",
      "9\n",
      "12\n",
      "15\n",
      "18\n",
      "21\n",
      "24\n",
      "27\n",
      "30\n",
      "33\n",
      "36\n",
      "39\n",
      "42\n",
      "45\n",
      "48\n",
      "51\n",
      "54\n",
      "57\n",
      "60\n",
      "63\n",
      "66\n",
      "69\n",
      "72\n",
      "75\n",
      "78\n",
      "81\n",
      "84\n",
      "87\n",
      "90\n",
      "93\n",
      "96\n",
      "99\n"
     ]
    }
   ],
   "source": [
    "for i in range(3,100,3):\n",
    "    print(i)\n",
    "    "
   ]
  },
  {
   "cell_type": "code",
   "execution_count": 13,
   "id": "9e429819",
   "metadata": {},
   "outputs": [
    {
     "name": "stdout",
     "output_type": "stream",
     "text": [
      "3\n",
      "6\n",
      "9\n",
      "12\n",
      "15\n",
      "18\n",
      "21\n",
      "24\n",
      "27\n",
      "30\n",
      "33\n",
      "36\n",
      "39\n",
      "42\n",
      "45\n",
      "48\n",
      "51\n",
      "54\n",
      "57\n",
      "60\n",
      "63\n",
      "66\n",
      "69\n",
      "72\n",
      "75\n",
      "78\n",
      "81\n",
      "84\n",
      "87\n",
      "90\n",
      "93\n",
      "96\n",
      "99\n"
     ]
    }
   ],
   "source": [
    "for i in range(1,100):\n",
    "    if i % 3 != 0:\n",
    "        continue\n",
    "    print(i)"
   ]
  },
  {
   "cell_type": "markdown",
   "id": "322de548",
   "metadata": {},
   "source": [
    "###### Only Vowels: Ask for user input, and write a for loop that will output all the vowels within it."
   ]
  },
  {
   "cell_type": "code",
   "execution_count": 14,
   "id": "35e43336",
   "metadata": {},
   "outputs": [],
   "source": [
    "from IPython.display import clear_output"
   ]
  },
  {
   "cell_type": "code",
   "execution_count": 15,
   "id": "3e4ca049",
   "metadata": {},
   "outputs": [
    {
     "name": "stdout",
     "output_type": "stream",
     "text": [
      "o\n",
      "e\n",
      "o\n",
      "e\n"
     ]
    }
   ],
   "source": [
    "word = input(\"Enter any word\").lower()\n",
    "clear_output()\n",
    "for i in word:\n",
    "    vowels = [\"a\",\"e\",\"i\",\"o\",\"u\"]\n",
    "    if i in vowels:\n",
    "        print(i)"
   ]
  },
  {
   "cell_type": "markdown",
   "id": "b934cf50",
   "metadata": {},
   "source": [
    "## While Loops"
   ]
  },
  {
   "cell_type": "code",
   "execution_count": 16,
   "id": "76d2f5a7",
   "metadata": {},
   "outputs": [
    {
     "name": "stdout",
     "output_type": "stream",
     "text": [
      "10\n",
      "9\n",
      "8\n",
      "7\n",
      "6\n",
      "5\n",
      "4\n",
      "3\n",
      "2\n",
      "1\n"
     ]
    }
   ],
   "source": [
    "number = 10\n",
    "while number > 0:\n",
    "    print(number)\n",
    "    number -= 1"
   ]
  },
  {
   "cell_type": "markdown",
   "id": "36fd82e5",
   "metadata": {},
   "source": [
    "##### Ex: User Input: Write a while loop that continues to ask for user input and runs until they type “quit”"
   ]
  },
  {
   "cell_type": "code",
   "execution_count": 17,
   "id": "a3284a0c",
   "metadata": {},
   "outputs": [],
   "source": [
    "user_input = input(\"Do you want to continue/quit?\").lower()\n",
    "clear_output()\n",
    "while user_input == \"continue\":\n",
    "    print(\"Continue\")\n",
    "    "
   ]
  },
  {
   "cell_type": "markdown",
   "id": "6dad7e32",
   "metadata": {},
   "source": [
    "##### Ex: Double Loop: Write a for loop within a while loop that will count from 0 to 5, but when it reaches 3, it sets a game_over variable to True and breaks out of the loop. the while loop should continue to loop until game_over is True. the output should only be 0, 1, 2"
   ]
  },
  {
   "cell_type": "code",
   "execution_count": 18,
   "id": "14eaa818",
   "metadata": {},
   "outputs": [
    {
     "name": "stdout",
     "output_type": "stream",
     "text": [
      "0\n",
      "1\n",
      "2\n",
      "True\n"
     ]
    }
   ],
   "source": [
    "game_over = False\n",
    "while not game_over:\n",
    "    for i in range(6):\n",
    "        if i == 3:\n",
    "            game_over = True\n",
    "            break\n",
    "        print(i)\n",
    "    print(game_over)"
   ]
  },
  {
   "cell_type": "markdown",
   "id": "2e462e6c",
   "metadata": {},
   "source": [
    "### Working with List"
   ]
  },
  {
   "cell_type": "code",
   "execution_count": 19,
   "id": "87340b45",
   "metadata": {},
   "outputs": [
    {
     "name": "stdout",
     "output_type": "stream",
     "text": [
      "3\n"
     ]
    }
   ],
   "source": [
    "#Checking the length\n",
    "nums = [5, 10,15]\n",
    "nums_length = len(nums)\n",
    "print(nums_length)"
   ]
  },
  {
   "cell_type": "markdown",
   "id": "0fddbf8e",
   "metadata": {},
   "source": [
    "# Week Project - Hangman"
   ]
  },
  {
   "cell_type": "code",
   "execution_count": 30,
   "id": "ad94ea9c",
   "metadata": {},
   "outputs": [
    {
     "name": "stdout",
     "output_type": "stream",
     "text": [
      "Thank you playing!\n",
      "\n",
      "Your guesses were:\n",
      "['shan', 'kamara', 'cy']\n",
      "Remaining life: 4\n"
     ]
    }
   ],
   "source": [
    "from random import choice\n",
    "\n",
    "word_list = [\"cy\",\"gaga\",\"shan\",\"gabby\",\"kaylan\",\"kamara\"]\n",
    "word = choice(word_list)\n",
    "game_over = False\n",
    "guesses = []\n",
    "life = 7\n",
    "while not game_over:\n",
    "    user_input = input(\"Type 'quit' or Guess the name of any of my female friends: \").lower()\n",
    "    if user_input == \"quit\":\n",
    "        clear_output()\n",
    "        print(\"Thank you playing!\")\n",
    "        print(\"\\nYour guesses were:\")\n",
    "        print(guesses)\n",
    "        print(\"Remaining life: {}\".format(life))\n",
    "        break\n",
    "    else:\n",
    "        guesses.append(user_input)\n",
    "        if user_input == word:\n",
    "            game_over = True\n",
    "            clear_output()\n",
    "            print(\"Yay! Congratulations...\")\n",
    "            print(\"\\nYour guesses were:\")\n",
    "            print(guesses)\n",
    "            print(\"Remaining life: {}\".format(life))\n",
    "            break\n",
    "        else:\n",
    "            if life > 0:\n",
    "                life -= 1\n",
    "            else:\n",
    "                clear_output()\n",
    "                print(\"Game Over!\\nYou've lost all your lives...\")\n",
    "                print(\"\\nYour guesses were:\")\n",
    "                print(guesses)\n",
    "                game_over = True\n",
    "                print(\"Game Over!\\n You've used all your life...\")\n"
   ]
  },
  {
   "cell_type": "markdown",
   "id": "7bbb3619",
   "metadata": {},
   "source": [
    "# Weekly Challenges"
   ]
  },
  {
   "cell_type": "markdown",
   "id": "4dd2f445",
   "metadata": {},
   "source": [
    "###### Pyramid: Use a for loop to build a pyramid of x’s. It should be modular so that if you loop to 5 or 50, it still creates evenly spaced rows. "
   ]
  },
  {
   "cell_type": "code",
   "execution_count": 46,
   "id": "b13ff4e4",
   "metadata": {},
   "outputs": [
    {
     "name": "stdout",
     "output_type": "stream",
     "text": [
      "How many rows do you want in your pyramid? 5\n",
      "    x \n",
      "   x x \n",
      "  x x x \n",
      " x x x x \n",
      "x x x x x \n"
     ]
    }
   ],
   "source": [
    "user_input = int(input(\"How many rows do you want in your pyramid? \"))\n",
    "if isinstance(user_input, int):\n",
    "    for i in range(0, user_input):\n",
    "        for j in range(0, user_input-i-1):\n",
    "            print(\"\", end=\" \")\n",
    "        for j in range(0, i+1):\n",
    "            print(\"x\", end=\" \")\n",
    "        print()"
   ]
  },
  {
   "cell_type": "markdown",
   "id": "b51deab3",
   "metadata": {},
   "source": [
    "#####  Write a loop that will iterate over a list of items and only output items which have letters inside of a string. Take the following list, for example, only “John” and “Amanda” should be output: >>> names = ['John', '  ', 'Amanda', 5]\n"
   ]
  },
  {
   "cell_type": "code",
   "execution_count": 48,
   "id": "6d4e9cea",
   "metadata": {},
   "outputs": [
    {
     "name": "stdout",
     "output_type": "stream",
     "text": [
      "Emmanuel   Mensah "
     ]
    }
   ],
   "source": [
    "names = [\"Emmanuel\", \" \", \"Mensah\", 5]\n",
    "for i in names:\n",
    "    if isinstance(i, str):\n",
    "        print(i, end=\" \")"
   ]
  },
  {
   "cell_type": "markdown",
   "id": "2d4ec96c",
   "metadata": {},
   "source": [
    "##### Convert Celsius: Given a list of temperatures that are in Celsius, write a loop that iterates over the list and outputs the temperature converted into Fahrenheit. Hint: The conversion is “F = (9/5) ∗ C + 32”: >>> temps = [32, 12, 44, 29]....Output would be [89.6, 53.6, 111.2, 84.2]"
   ]
  },
  {
   "cell_type": "code",
   "execution_count": 49,
   "id": "68c6979b",
   "metadata": {},
   "outputs": [
    {
     "name": "stdout",
     "output_type": "stream",
     "text": [
      "[73.4, 64.4, 66.2, 95.0, 32.0]\n"
     ]
    }
   ],
   "source": [
    "celsius_temps = [23,18,19,35,0]\n",
    "fahrenheit_temps = []\n",
    "for i in celsius_temps:\n",
    "    calc = ((9/5)*i) + 32\n",
    "    fahrenheit_temps.append(calc)\n",
    "print(fahrenheit_temps)\n",
    "    "
   ]
  },
  {
   "cell_type": "code",
   "execution_count": null,
   "id": "f5db319e",
   "metadata": {},
   "outputs": [],
   "source": []
  }
 ],
 "metadata": {
  "kernelspec": {
   "display_name": "Python 3 (ipykernel)",
   "language": "python",
   "name": "python3"
  },
  "language_info": {
   "codemirror_mode": {
    "name": "ipython",
    "version": 3
   },
   "file_extension": ".py",
   "mimetype": "text/x-python",
   "name": "python",
   "nbconvert_exporter": "python",
   "pygments_lexer": "ipython3",
   "version": "3.9.7"
  }
 },
 "nbformat": 4,
 "nbformat_minor": 5
}
